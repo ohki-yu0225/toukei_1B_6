{
  "cells": [
    {
      "cell_type": "markdown",
      "metadata": {
        "id": "view-in-github",
        "colab_type": "text"
      },
      "source": [
        "<a href=\"https://colab.research.google.com/github/ohki-yu0225/toukei_1B_6/blob/main/250522_notebook_6.ipynb\" target=\"_parent\"><img src=\"https://colab.research.google.com/assets/colab-badge.svg\" alt=\"Open In Colab\"/></a>"
      ]
    },
    {
      "cell_type": "markdown",
      "id": "e9a485d9",
      "metadata": {
        "id": "e9a485d9"
      },
      "source": [
        "# 統計学実習 IB 第 6 回\n",
        "\n",
        "担当：大木 有<br>\n",
        "日時：2025 年 5 月 22 日（金）\n",
        "\n",
        "### 内容\n",
        "\n",
        "- 散布図と相関係数\n",
        "\n",
        "### データ\n",
        "\n",
        "- 解析対象：世界のサッカー選手のデータ (2022/2023 シーズン)\n",
        "- 出典：EA Sports FC 24 complete player dataset (https://www.kaggle.com/datasets/stefanoleone992/ea-sports-fc-24-complete-player-dataset?select=male_players.csv)\n"
      ]
    },
    {
      "cell_type": "markdown",
      "id": "97727fe1",
      "metadata": {
        "id": "97727fe1"
      },
      "source": [
        "# Statistics Practice IB 6th\n",
        "\n",
        "Contact: Yu Ohki<br> Date: May 22, 2025\n",
        "Date: Friday, May 22, 2025\n",
        "\n",
        "### Contents\n",
        "\n",
        "- Scatter plots and Correlation coefficients\n",
        "\n",
        "### Data\n",
        "\n",
        "- Data of world football players (2022/2023 season)\n",
        "- Source: EA Sports FC 24 complete player dataset (https://www.kaggle.com/datasets/stefanoleone992/ea-sports-fc-24-complete-player-dataset? select=male_players.csv)"
      ]
    },
    {
      "cell_type": "markdown",
      "id": "b5f1a7de",
      "metadata": {
        "id": "b5f1a7de"
      },
      "source": [
        "## データ分析の準備\n"
      ]
    },
    {
      "cell_type": "markdown",
      "id": "b7ed31f8",
      "metadata": {
        "id": "b7ed31f8"
      },
      "source": [
        "## Preparation of data analysis\n"
      ]
    },
    {
      "cell_type": "code",
      "execution_count": null,
      "id": "69f8bcfd",
      "metadata": {
        "id": "69f8bcfd"
      },
      "outputs": [],
      "source": [
        "!pip install japanize_matplotlib\n",
        "import pandas as pd\n",
        "import numpy as np\n",
        "import matplotlib.pyplot as plt\n",
        "import japanize_matplotlib"
      ]
    },
    {
      "cell_type": "code",
      "execution_count": null,
      "id": "97bb0f37",
      "metadata": {
        "id": "97bb0f37"
      },
      "outputs": [],
      "source": [
        "#'sample_5.csv'を読み込んで、変数'data'に代入し、最初の10行を表示する。\n",
        "#'sample_5.csv', assign it to the variable 'data' and display the first 10 rows.\n",
        "data = pd.read_csv(\"sample_5.csv\")\n",
        "data.head(10)"
      ]
    },
    {
      "cell_type": "markdown",
      "id": "3a23574b",
      "metadata": {
        "id": "3a23574b"
      },
      "source": [
        "Name: 名前 <br>\n",
        "Value: 市場価値（ユーロ[EUR]）<br>\n",
        "Wage: 週給（ユーロ[EUR/Week]）<br>\n",
        "Age: 年齢<br>\n",
        "Height: 身長(cm)<br>\n",
        "Weight: 体重(kg)<br>\n",
        "Club: 所属クラブ<br>\n",
        "League: 所属リーグ<br>\n",
        "Nationality: 国籍<br>\n",
        "Value_JPY: 市場価値（1億円[100M JPY]）<br>\n",
        "Wage_JPY_y: 年俸（1億円[100M JPY/Year]）\n"
      ]
    },
    {
      "cell_type": "markdown",
      "id": "55ce5093",
      "metadata": {
        "id": "55ce5093"
      },
      "source": [
        "## 散布図\n",
        "\n",
        "2変量データの片方のデータを縦軸に、もう片方のデータを縦軸として作るグラフを散布図と呼ぶ。散布図は2つのデータの相関関係を可視化するための図である。散布図の作成のためは、`plt`の`scatter`関数を使用する。\n",
        "\n",
        "---\n",
        "```Python\n",
        "plt.scatter(x, y)\n",
        "```\n",
        "---"
      ]
    },
    {
      "cell_type": "markdown",
      "source": [
        "## 共分散と相関係数\n",
        "\n",
        "2つのデータの相関関係を定量的に表す指標として共分散がある。`DataFrame`からの相関係数の計算は、`cov`を使用する。\n",
        "\n",
        "---\n",
        "```Python\n",
        "df(['列名1']).cov(df['列名2'])\n",
        "```\n",
        "---\n",
        "\n",
        "共分散を規格化した相関係数は、2つのデータの相関関係を-1から1までの値で表すことができる。`DataFrame`からの相関係数の計算は、`corr`を使用する。\n",
        "\n",
        "---\n",
        "```Python\n",
        "df(['列名1']).corr(df['列名2'])\n",
        "```\n",
        "---"
      ],
      "metadata": {
        "id": "hBLiMba0OOVS"
      },
      "id": "hBLiMba0OOVS"
    },
    {
      "cell_type": "markdown",
      "source": [
        "## Scatter Plot\n",
        "\n",
        "A graph in which one of the variables in a bivariate dataset is plotted on the vertical axis and the other variable is also plotted on the vertical axis is called a scatter plot. A scatter plot is a diagram used to visualize the correlation between two variables. To create a scatter plot, use the `scatter` function from `plt`.\n",
        "\n",
        "---\n",
        "```Python\n",
        "plt.scatter(x, y)\n",
        "```\n",
        "---"
      ],
      "metadata": {
        "id": "QAHvVjhLM6pw"
      },
      "id": "QAHvVjhLM6pw"
    },
    {
      "cell_type": "markdown",
      "source": [
        "## Covariance and Correlation Coefficient\n",
        "\n",
        "Covariance is a measure that quantitatively represents the correlation between two variables. To calculate the covariance from a `DataFrame`, use the `cov` function.\n",
        "\n",
        "---\n",
        "```Python\n",
        "df['Column1'].cov(df['Column2'])\n",
        "```\n",
        "---\n",
        "\n",
        "The correlation coefficient, which is a normalized version of covariance, expresses the correlation between two variables as a value ranging from -1 to 1. To calculate the correlation coefficient from a `DataFrame`, use the `corr` function.\n",
        "\n",
        "---\n",
        "```Python\n",
        "df['Column1'].corr(df['Column2'])\n",
        "```\n",
        "---"
      ],
      "metadata": {
        "id": "p3iPFmZPNOsN"
      },
      "id": "p3iPFmZPNOsN"
    },
    {
      "cell_type": "code",
      "execution_count": null,
      "id": "df962152",
      "metadata": {
        "id": "df962152"
      },
      "outputs": [],
      "source": [
        "# 市場価値と年俸の散布図を作成する。\n",
        "# Create a scatter plot of market value and annual salary.\n",
        "plt.scatter(data['Value_JPY'], data['Wage_JPY_y'])\n",
        "plt.title(\"市場価値と年俸の散布図\")\n",
        "plt.xlabel(\"市場価値[億円]\")\n",
        "plt.ylabel(\"年俸[億円]\")"
      ]
    },
    {
      "cell_type": "code",
      "source": [
        "# 市場価値と年俸の共分散を計算する。\n",
        "# Calculate the covariance between market value and annual salary.\n",
        "cov1 = data['Value_JPY'].cov(data['Wage_JPY_y'])\n",
        "print(f\"相関係数：{cov1}\")"
      ],
      "metadata": {
        "id": "e7ZyE8NPL8tw"
      },
      "id": "e7ZyE8NPL8tw",
      "execution_count": null,
      "outputs": []
    },
    {
      "cell_type": "code",
      "execution_count": null,
      "id": "43e50ff8",
      "metadata": {
        "id": "43e50ff8"
      },
      "outputs": [],
      "source": [
        "# 市場価値と年俸の相関係数を計算する。\n",
        "# Calculate the correlation coefficient between market value and annual salary.\n",
        "r1 = data['Value_JPY'].corr(data['Wage_JPY_y'])\n",
        "print(f\"相関係数：{r1}\")"
      ]
    },
    {
      "cell_type": "code",
      "execution_count": null,
      "id": "64e23c7d",
      "metadata": {
        "id": "64e23c7d"
      },
      "outputs": [],
      "source": [
        "# 練習1 身長と体重の散布図を作成する。\n",
        "# Exercise 1 Create a scatter plot of height and weight.\n"
      ]
    },
    {
      "cell_type": "code",
      "source": [
        "# 練習2 身長と体重の相関係数を計算する。\n",
        "# Exercise 2 Calculate the covariance between height and weight.\n",
        "\n",
        "print(f\"共分散：{cov2}\")"
      ],
      "metadata": {
        "id": "5TzttfbfM9hK"
      },
      "id": "5TzttfbfM9hK",
      "execution_count": null,
      "outputs": []
    },
    {
      "cell_type": "code",
      "execution_count": null,
      "id": "2d9a8697",
      "metadata": {
        "id": "2d9a8697"
      },
      "outputs": [],
      "source": [
        "# 練習3 身長と体重の相関係数を計算する。\n",
        "# Exercise 3 Calculate the correlation coefficient between height and weight.\n",
        "\n",
        "print(f\"相関係数：{r2}\")"
      ]
    },
    {
      "cell_type": "code",
      "execution_count": null,
      "id": "b45d49b4",
      "metadata": {
        "id": "b45d49b4"
      },
      "outputs": [],
      "source": [
        "# 練習4 年俸と身長の散布図を作成する。\n",
        "# Exercise 4 Create a scatter plot of annual salary and height.\n"
      ]
    },
    {
      "cell_type": "code",
      "source": [
        "# 練習5 年俸と身長の相関係数を計算する。\n",
        "# Exercise 5 Calculate the covariance between annual salary and height.\n",
        "\n",
        "print(f\"共分散：{cov3}\")"
      ],
      "metadata": {
        "id": "kH_IOEL1NSf6"
      },
      "id": "kH_IOEL1NSf6",
      "execution_count": null,
      "outputs": []
    },
    {
      "cell_type": "code",
      "execution_count": null,
      "id": "5d2d94f6",
      "metadata": {
        "id": "5d2d94f6"
      },
      "outputs": [],
      "source": [
        "# 練習6 年俸と身長の相関係数を計算する。\n",
        "# Exercise 6 Calculate the correlation coefficient between annual salary and height.\n",
        "\n",
        "print(f\"相関係数：{r3}\")"
      ]
    },
    {
      "cell_type": "code",
      "execution_count": null,
      "id": "844bfa71",
      "metadata": {
        "id": "844bfa71"
      },
      "outputs": [],
      "source": [
        "# 練習7 年俸と週給の散布図を作成する。\n",
        "# Exercise 7 Create a scatter plot of annual and weekly salaries.\n"
      ]
    },
    {
      "cell_type": "code",
      "source": [
        "# 練習8 年俸と週給の共分散を計算する。\n",
        "# Exercise 8 Calculate the covariance between annual and weekly salary.\n",
        "\n",
        "print(f\"共分散：{cov4}\")"
      ],
      "metadata": {
        "id": "ZsAM952HNf0d"
      },
      "id": "ZsAM952HNf0d",
      "execution_count": null,
      "outputs": []
    },
    {
      "cell_type": "code",
      "execution_count": null,
      "id": "6003956d",
      "metadata": {
        "id": "6003956d"
      },
      "outputs": [],
      "source": [
        "# 練習9 年俸と週給の相関係数を計算する。\n",
        "# Exercise 9 Calculate the correlation coefficient between annual and weekly salary.\n",
        "\n",
        "print(f\"相関係数：{r4}\")"
      ]
    },
    {
      "cell_type": "markdown",
      "source": [
        "## アンスコムの例\n",
        "\n",
        "全く異なる散布図であっても，平均や分散，相関係数などの統計量は同一になることがある。統計学者のアンスコムは1973年にこの現象を説明する数値例を紹介した。"
      ],
      "metadata": {
        "id": "jXYduU3rNkR6"
      },
      "id": "jXYduU3rNkR6"
    },
    {
      "cell_type": "markdown",
      "source": [
        "## Anscombe's quartet\n",
        "\n",
        "Even when scatter plots appear completely different, statistical measures such as the mean, variance, and correlation coefficient can sometimes be identical. In 1973, the statistician Anscombe introduced a numerical example to illustrate this phenomenon."
      ],
      "metadata": {
        "id": "fvp978pbOiNE"
      },
      "id": "fvp978pbOiNE"
    },
    {
      "cell_type": "code",
      "source": [
        "#  アンスコムの数値例を読み込み\n",
        "import seaborn as sns\n",
        "df = sns.load_dataset(\"anscombe\")\n",
        "df"
      ],
      "metadata": {
        "id": "LSUvYOjUOVnq"
      },
      "id": "LSUvYOjUOVnq",
      "execution_count": null,
      "outputs": []
    },
    {
      "cell_type": "code",
      "source": [
        "# データセットIの散布図を作成する\n",
        "# Create a scatter plot of Dataset I.\n",
        "df_1 = df[df[\"dataset\"]==\"I\"]\n",
        "plt.scatter(df_1[\"x\"], df_1[\"y\"])\n",
        "plt.xlabel(\"x\")\n",
        "plt.ylabel(\"y\")"
      ],
      "metadata": {
        "id": "0p9aa0nBOs0A"
      },
      "id": "0p9aa0nBOs0A",
      "execution_count": null,
      "outputs": []
    },
    {
      "cell_type": "code",
      "source": [
        "# データセットIのx,yの平均値，標準偏差，相関係数を計算する\n",
        "# Calculate the mean, standard deviation, and correlation coefficient of x and y in Dataset I.\n",
        "print(f\"平均値：{df_1['x'].mean()}, {df_1['y'].mean()}\")\n",
        "print(f\"標準偏差：{df_1['x'].std()}, {df_1['y'].std()}\")\n",
        "print(f\"相関係数：{df_1['x'].corr(df_1['y'])}\")"
      ],
      "metadata": {
        "id": "QWBeFy87PCLB"
      },
      "id": "QWBeFy87PCLB",
      "execution_count": null,
      "outputs": []
    },
    {
      "cell_type": "code",
      "source": [
        "# 練習10 データセットIIの散布図を作成する\n",
        "# Exercise 10 Create a scatter plot of Dataset II.\n"
      ],
      "metadata": {
        "id": "x3BCSG1zP1gU"
      },
      "id": "x3BCSG1zP1gU",
      "execution_count": null,
      "outputs": []
    },
    {
      "cell_type": "code",
      "source": [
        "# 練習11 データセットIIのx,yの平均値，標準偏差，相関係数を計算する\n",
        "# Exercise 11 Calculate the mean, standard deviation, and correlation coefficient of x and y in Dataset II.\n"
      ],
      "metadata": {
        "id": "9ElOmmiyQEwq"
      },
      "id": "9ElOmmiyQEwq",
      "execution_count": null,
      "outputs": []
    },
    {
      "cell_type": "code",
      "source": [
        "# 練習12 データセットIIIの散布図を作成する\n",
        "# Exercise 12 Create a scatter plot of Dataset III.\n"
      ],
      "metadata": {
        "id": "3z-KEqPcQLHo"
      },
      "id": "3z-KEqPcQLHo",
      "execution_count": null,
      "outputs": []
    },
    {
      "cell_type": "code",
      "source": [
        "# 練習13 データセットIIIのx,yの平均値，標準偏差，相関係数を計算する\n",
        "# Exercise 13 Calculate the mean, standard deviation, and correlation coefficient of x and y in Dataset III.\n"
      ],
      "metadata": {
        "id": "meD-UVAZQR7j"
      },
      "id": "meD-UVAZQR7j",
      "execution_count": null,
      "outputs": []
    },
    {
      "cell_type": "code",
      "source": [
        "# 練習14 データセットIVの散布図を作成する\n",
        "# Exercise 14 Create a scatter plot of Dataset IV.\n"
      ],
      "metadata": {
        "id": "gbx7pFh9QYTZ"
      },
      "id": "gbx7pFh9QYTZ",
      "execution_count": null,
      "outputs": []
    },
    {
      "cell_type": "code",
      "source": [
        "# 練習15 データセットIVのx,yの平均値，標準偏差，相関係数を計算する\n",
        "# Exercise 15 Calculate the mean, standard deviation, and correlation coefficient of x and y in Dataset IV.\n"
      ],
      "metadata": {
        "id": "FBbbkUNpQdnM"
      },
      "id": "FBbbkUNpQdnM",
      "execution_count": null,
      "outputs": []
    },
    {
      "cell_type": "code",
      "source": [],
      "metadata": {
        "id": "7ixx_dsvQkPq"
      },
      "id": "7ixx_dsvQkPq",
      "execution_count": null,
      "outputs": []
    }
  ],
  "metadata": {
    "kernelspec": {
      "display_name": "Python 3 (ipykernel)",
      "language": "python",
      "name": "python3"
    },
    "language_info": {
      "codemirror_mode": {
        "name": "ipython",
        "version": 3
      },
      "file_extension": ".py",
      "mimetype": "text/x-python",
      "name": "python",
      "nbconvert_exporter": "python",
      "pygments_lexer": "ipython3",
      "version": "3.10.14"
    },
    "colab": {
      "provenance": [],
      "include_colab_link": true
    }
  },
  "nbformat": 4,
  "nbformat_minor": 5
}